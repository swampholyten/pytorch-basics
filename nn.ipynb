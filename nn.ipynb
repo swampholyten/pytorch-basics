{
  "nbformat": 4,
  "nbformat_minor": 0,
  "metadata": {
    "colab": {
      "provenance": [],
      "gpuType": "T4"
    },
    "kernelspec": {
      "name": "python3",
      "display_name": "Python 3"
    },
    "language_info": {
      "name": "python"
    },
    "accelerator": "GPU"
  },
  "cells": [
    {
      "cell_type": "code",
      "source": [
        "import os\n",
        "import torch\n",
        "from torch import nn\n",
        "from torch.utils.data import DataLoader\n",
        "from torchvision import datasets, transforms"
      ],
      "metadata": {
        "id": "1103sLK8TngR"
      },
      "execution_count": 25,
      "outputs": []
    },
    {
      "cell_type": "code",
      "source": [
        "device = (\n",
        "    \"cuda\"\n",
        "    if torch.cuda.is_available()\n",
        "    else \"mps\"\n",
        "    if torch.backends.mps.is_available()\n",
        "    else \"cpu\"\n",
        ")\n",
        "print(f\"Using {device} device\")"
      ],
      "metadata": {
        "colab": {
          "base_uri": "https://localhost:8080/"
        },
        "id": "qs6MTcVVVdTa",
        "outputId": "027f8e16-d9db-4fb4-ae6b-8fa0dbb4eb07"
      },
      "execution_count": 26,
      "outputs": [
        {
          "output_type": "stream",
          "name": "stdout",
          "text": [
            "Using cuda device\n"
          ]
        }
      ]
    },
    {
      "cell_type": "code",
      "source": [
        "class NeuralNetwork(nn.Module):\n",
        "    def __init__(self):\n",
        "        super().__init__()\n",
        "        self.flatten = nn.Flatten()\n",
        "        self.linear_relu_stack = nn.Sequential(\n",
        "            nn.Linear(28*28, 512),\n",
        "            nn.ReLU(),\n",
        "            nn.Linear(512, 512),\n",
        "            nn.ReLU(),\n",
        "            nn.Linear(512, 10),\n",
        "        )\n",
        "\n",
        "    def forward(self, x):\n",
        "        x = self.flatten(x)\n",
        "        logits = self.linear_relu_stack(x)\n",
        "        return logits"
      ],
      "metadata": {
        "id": "I0GE0biKVmzY"
      },
      "execution_count": 31,
      "outputs": []
    },
    {
      "cell_type": "code",
      "source": [
        "model = NeuralNetwork().to(device)\n",
        "print(model)"
      ],
      "metadata": {
        "colab": {
          "base_uri": "https://localhost:8080/"
        },
        "id": "U0EXXBVdV_uL",
        "outputId": "1c4613ef-46a6-49d6-d268-a7ee6cc2c4b2"
      },
      "execution_count": 32,
      "outputs": [
        {
          "output_type": "stream",
          "name": "stdout",
          "text": [
            "NeuralNetwork(\n",
            "  (flatten): Flatten(start_dim=1, end_dim=-1)\n",
            "  (linear_relu_stack): Sequential(\n",
            "    (0): Linear(in_features=784, out_features=512, bias=True)\n",
            "    (1): ReLU()\n",
            "    (2): Linear(in_features=512, out_features=512, bias=True)\n",
            "    (3): ReLU()\n",
            "    (4): Linear(in_features=512, out_features=10, bias=True)\n",
            "  )\n",
            ")\n"
          ]
        }
      ]
    },
    {
      "cell_type": "code",
      "source": [
        "X = torch.rand(1, 28, 28, device=device)\n",
        "logits = model(X)\n",
        "pred_probab = nn.Softmax(dim=1)(logits)\n",
        "y_pred = pred_probab.argmax(1)\n",
        "print(f\"Predicted class: {y_pred}\")"
      ],
      "metadata": {
        "colab": {
          "base_uri": "https://localhost:8080/"
        },
        "id": "MWyku-7EWCnp",
        "outputId": "9401dac5-a6aa-4461-9649-7c2abcbff0f8"
      },
      "execution_count": 33,
      "outputs": [
        {
          "output_type": "stream",
          "name": "stdout",
          "text": [
            "Predicted class: tensor([9], device='cuda:0')\n"
          ]
        }
      ]
    },
    {
      "cell_type": "code",
      "source": [
        "input_image = torch.rand(3, 28, 28)\n",
        "print(input_image.size())"
      ],
      "metadata": {
        "colab": {
          "base_uri": "https://localhost:8080/"
        },
        "id": "vDQIX4GcWRQF",
        "outputId": "30a97d94-2d10-44c2-c2d4-324189c39462"
      },
      "execution_count": 34,
      "outputs": [
        {
          "output_type": "stream",
          "name": "stdout",
          "text": [
            "torch.Size([3, 28, 28])\n"
          ]
        }
      ]
    },
    {
      "cell_type": "code",
      "source": [
        "flatten = nn.Flatten()\n",
        "flat_image = flatten(input_image)\n",
        "print(flat_image.size())"
      ],
      "metadata": {
        "colab": {
          "base_uri": "https://localhost:8080/"
        },
        "id": "qHwIJ2VSWebT",
        "outputId": "c935c574-f8b3-4c05-97d1-b401548af9ca"
      },
      "execution_count": 35,
      "outputs": [
        {
          "output_type": "stream",
          "name": "stdout",
          "text": [
            "torch.Size([3, 784])\n"
          ]
        }
      ]
    },
    {
      "cell_type": "code",
      "source": [
        "layer1 = nn.Linear(in_features=28*28, out_features=20)\n",
        "hidden1 = layer1(flat_image)\n",
        "print(hidden1.size())"
      ],
      "metadata": {
        "colab": {
          "base_uri": "https://localhost:8080/"
        },
        "id": "M919gPNGW1c2",
        "outputId": "235d3053-759f-4f1a-bffb-af15d4cec26f"
      },
      "execution_count": 36,
      "outputs": [
        {
          "output_type": "stream",
          "name": "stdout",
          "text": [
            "torch.Size([3, 20])\n"
          ]
        }
      ]
    },
    {
      "cell_type": "code",
      "source": [
        "print(f\"Before ReLU: {hidden1}\\n\\n\")\n",
        "hidden1 = nn.ReLU()(hidden1)\n",
        "print(f\"After ReLU: {hidden1}\")"
      ],
      "metadata": {
        "colab": {
          "base_uri": "https://localhost:8080/"
        },
        "id": "Za-kSz5jW8lB",
        "outputId": "907273cf-0293-44f7-e8d4-6e1cdc754e32"
      },
      "execution_count": 37,
      "outputs": [
        {
          "output_type": "stream",
          "name": "stdout",
          "text": [
            "Before ReLU: tensor([[ 0.1794, -0.2547,  0.1062, -0.1531, -0.0845,  0.4633, -0.1216, -0.2452,\n",
            "          0.4205,  0.0996, -0.5180,  0.0223, -0.0606,  0.0164,  0.2026, -0.3941,\n",
            "          0.4969,  0.0662, -0.8144,  0.2485],\n",
            "        [-0.1561,  0.1757,  0.3723, -0.1792,  0.0370,  0.3199,  0.1485, -0.3024,\n",
            "          0.0397, -0.2854, -0.4161, -0.0143, -0.0195,  0.5180, -0.0544, -0.4949,\n",
            "          0.1786,  0.2946, -0.0053,  0.1990],\n",
            "        [-0.1388,  0.1523,  0.5057, -0.5176, -0.1517,  0.2423, -0.1126, -0.5426,\n",
            "          0.2444,  0.0607, -0.1756, -0.0166, -0.4576,  0.2272,  0.1346, -0.3238,\n",
            "         -0.0306,  0.1024, -0.3974,  0.4990]], grad_fn=<AddmmBackward0>)\n",
            "\n",
            "\n",
            "After ReLU: tensor([[0.1794, 0.0000, 0.1062, 0.0000, 0.0000, 0.4633, 0.0000, 0.0000, 0.4205,\n",
            "         0.0996, 0.0000, 0.0223, 0.0000, 0.0164, 0.2026, 0.0000, 0.4969, 0.0662,\n",
            "         0.0000, 0.2485],\n",
            "        [0.0000, 0.1757, 0.3723, 0.0000, 0.0370, 0.3199, 0.1485, 0.0000, 0.0397,\n",
            "         0.0000, 0.0000, 0.0000, 0.0000, 0.5180, 0.0000, 0.0000, 0.1786, 0.2946,\n",
            "         0.0000, 0.1990],\n",
            "        [0.0000, 0.1523, 0.5057, 0.0000, 0.0000, 0.2423, 0.0000, 0.0000, 0.2444,\n",
            "         0.0607, 0.0000, 0.0000, 0.0000, 0.2272, 0.1346, 0.0000, 0.0000, 0.1024,\n",
            "         0.0000, 0.4990]], grad_fn=<ReluBackward0>)\n"
          ]
        }
      ]
    },
    {
      "cell_type": "code",
      "source": [
        "seq_modules = nn.Sequential(\n",
        "    flatten,\n",
        "    layer1,\n",
        "    nn.ReLU(),\n",
        "    nn.Linear(20, 10)\n",
        ")\n",
        "input_image = torch.rand(3, 28, 28)\n",
        "logits = seq_modules(input_image)\n",
        "print(logits)"
      ],
      "metadata": {
        "colab": {
          "base_uri": "https://localhost:8080/"
        },
        "id": "LCnXPtkEXDk0",
        "outputId": "34eacda5-ece4-462e-a245-7cca7efdebdf"
      },
      "execution_count": 40,
      "outputs": [
        {
          "output_type": "stream",
          "name": "stdout",
          "text": [
            "tensor([[-0.1220, -0.0103,  0.2287,  0.1476, -0.0803, -0.0783, -0.0489, -0.1088,\n",
            "         -0.1602,  0.1245],\n",
            "        [-0.2078,  0.0757,  0.3534,  0.1411, -0.1548, -0.0083, -0.1272, -0.0457,\n",
            "         -0.0657,  0.0647],\n",
            "        [-0.1530, -0.1209,  0.1445,  0.2684, -0.1839,  0.0151,  0.0111, -0.0652,\n",
            "         -0.2121,  0.0272]], grad_fn=<AddmmBackward0>)\n"
          ]
        }
      ]
    },
    {
      "cell_type": "code",
      "source": [
        "softmax = nn.Softmax(dim=1)\n",
        "pred_probab = softmax(logits)\n",
        "print(pred_probab)"
      ],
      "metadata": {
        "colab": {
          "base_uri": "https://localhost:8080/"
        },
        "id": "J2bpy0a6XYgm",
        "outputId": "f8c1cebf-9d1d-404e-cfed-151c825aa867"
      },
      "execution_count": 47,
      "outputs": [
        {
          "output_type": "stream",
          "name": "stdout",
          "text": [
            "tensor([[0.0888, 0.0993, 0.1261, 0.1162, 0.0925, 0.0927, 0.0955, 0.0899, 0.0854,\n",
            "         0.1136],\n",
            "        [0.0800, 0.1062, 0.1402, 0.1134, 0.0844, 0.0977, 0.0867, 0.0941, 0.0922,\n",
            "         0.1051],\n",
            "        [0.0872, 0.0901, 0.1174, 0.1329, 0.0846, 0.1032, 0.1028, 0.0952, 0.0822,\n",
            "         0.1044]], grad_fn=<SoftmaxBackward0>)\n"
          ]
        }
      ]
    },
    {
      "cell_type": "code",
      "source": [
        "print(f\"Model structure: {model}\\n\\n\")\n",
        "\n",
        "for name, param in model.named_parameters():\n",
        "    print(f\"Layer: {name} | Size: {param.size()} | Values : {param[:2]} \\n\")"
      ],
      "metadata": {
        "colab": {
          "base_uri": "https://localhost:8080/"
        },
        "id": "WsgjZ8P0XxGY",
        "outputId": "0e81ddcc-33de-46bc-a59e-4d239ea9fb6c"
      },
      "execution_count": 49,
      "outputs": [
        {
          "output_type": "stream",
          "name": "stdout",
          "text": [
            "Model structure: NeuralNetwork(\n",
            "  (flatten): Flatten(start_dim=1, end_dim=-1)\n",
            "  (linear_relu_stack): Sequential(\n",
            "    (0): Linear(in_features=784, out_features=512, bias=True)\n",
            "    (1): ReLU()\n",
            "    (2): Linear(in_features=512, out_features=512, bias=True)\n",
            "    (3): ReLU()\n",
            "    (4): Linear(in_features=512, out_features=10, bias=True)\n",
            "  )\n",
            ")\n",
            "\n",
            "\n",
            "Layer: linear_relu_stack.0.weight | Size: torch.Size([512, 784]) | Values : tensor([[ 0.0231,  0.0257,  0.0225,  ..., -0.0247, -0.0007, -0.0216],\n",
            "        [ 0.0278, -0.0134, -0.0277,  ...,  0.0012, -0.0197,  0.0303]],\n",
            "       device='cuda:0', grad_fn=<SliceBackward0>) \n",
            "\n",
            "Layer: linear_relu_stack.0.bias | Size: torch.Size([512]) | Values : tensor([-0.0203, -0.0124], device='cuda:0', grad_fn=<SliceBackward0>) \n",
            "\n",
            "Layer: linear_relu_stack.2.weight | Size: torch.Size([512, 512]) | Values : tensor([[ 0.0258, -0.0173,  0.0262,  ..., -0.0203,  0.0382, -0.0177],\n",
            "        [ 0.0270, -0.0071, -0.0312,  ..., -0.0419, -0.0227,  0.0378]],\n",
            "       device='cuda:0', grad_fn=<SliceBackward0>) \n",
            "\n",
            "Layer: linear_relu_stack.2.bias | Size: torch.Size([512]) | Values : tensor([-0.0253, -0.0357], device='cuda:0', grad_fn=<SliceBackward0>) \n",
            "\n",
            "Layer: linear_relu_stack.4.weight | Size: torch.Size([10, 512]) | Values : tensor([[ 0.0079, -0.0380,  0.0023,  ...,  0.0256, -0.0362, -0.0283],\n",
            "        [-0.0065, -0.0082,  0.0122,  ..., -0.0382,  0.0107,  0.0202]],\n",
            "       device='cuda:0', grad_fn=<SliceBackward0>) \n",
            "\n",
            "Layer: linear_relu_stack.4.bias | Size: torch.Size([10]) | Values : tensor([0.0243, 0.0152], device='cuda:0', grad_fn=<SliceBackward0>) \n",
            "\n"
          ]
        }
      ]
    }
  ]
}